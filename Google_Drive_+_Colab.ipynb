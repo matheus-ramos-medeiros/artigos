{
  "nbformat": 4,
  "nbformat_minor": 0,
  "metadata": {
    "colab": {
      "name": "Google Drive + Colab.ipynb",
      "provenance": [],
      "collapsed_sections": [],
      "authorship_tag": "ABX9TyOPbWzdBwopjo30Y9vLQqVH",
      "include_colab_link": true
    },
    "kernelspec": {
      "name": "python3",
      "display_name": "Python 3"
    },
    "language_info": {
      "name": "python"
    }
  },
  "cells": [
    {
      "cell_type": "markdown",
      "metadata": {
        "id": "view-in-github",
        "colab_type": "text"
      },
      "source": [
        "<a href=\"https://colab.research.google.com/github/matheus-ramos-medeiros/artigos/blob/main/Google_Drive_%2B_Colab.ipynb\" target=\"_parent\"><img src=\"https://colab.research.google.com/assets/colab-badge.svg\" alt=\"Open In Colab\"/></a>"
      ]
    },
    {
      "cell_type": "markdown",
      "source": [
        "---\n",
        "\n",
        "## Google Drive e Google Colab = Ligeiro\n",
        "\n",
        "Estar dentro do ecossistema do Google tem suas vantagens. Além de estarmos utilizando um ambiente altamente interativo, prático, robusto e fácil de usar, também temos integração facilitada com outros produtos Google, como o Google Drive, por exemplo.\n",
        "\n",
        "\n",
        "\n",
        "<center><img width=\"60%\" src=\"https://miro.medium.com/max/956/1*BKyVeBWvz1TjhjkBLHpEsg.png\"></center>"
      ],
      "metadata": {
        "id": "QdNS7fIY8eRt"
      }
    },
    {
      "cell_type": "markdown",
      "source": [
        "## Acessando o Google Drive através do Colab\n",
        "\n",
        "É muito importante você ter uma conta google para acessar todas as plataformas.\n",
        "\n",
        "O Google Drive é o sistema de armazenamento em nuvem do Google, e pode ser um grande facilitador do nosso trabalho no que tange acessibilidade aos arquivos que vamos trabalhar.\n",
        "\n",
        "Usando o pacote `drive` da biblioteca `google.colab` conseguimos interagir com nosso drive de forma prática e simples. Tudo que precisamos fazer é montar o drive com o comando abaixo.\n",
        "\n",
        "Após rodar a célula, abrirá uma nova janela, pedindo autorização para acessar a conta e manipular os arquivos contidos nela. Após liberar o acesso, copie o código gerado e insira-o abaixo."
      ],
      "metadata": {
        "id": "oBjXjX_I92n6"
      }
    },
    {
      "cell_type": "code",
      "execution_count": 1,
      "metadata": {
        "colab": {
          "base_uri": "https://localhost:8080/"
        },
        "id": "4Dk6tyFi8ds9",
        "outputId": "1d12de03-4c08-4323-e11b-a1108b91f711"
      },
      "outputs": [
        {
          "output_type": "stream",
          "name": "stdout",
          "text": [
            "Mounted at /content/gdrive\n"
          ]
        }
      ],
      "source": [
        "# importando os pacotes necessários\n",
        "from google.colab import drive\n",
        "\n",
        "# montando o drive\n",
        "drive.mount('/content/gdrive')"
      ]
    },
    {
      "cell_type": "markdown",
      "source": [
        "Pronto! Drive montado para acesso.\n",
        "\n",
        "Com uma simples função `!ls` podemos listar o nosso drive com todos arquivos."
      ],
      "metadata": {
        "id": "ShsnfTFY9_uB"
      }
    },
    {
      "cell_type": "code",
      "source": [
        "# listando arquivos\n",
        "!ls 'gdrive/My Drive/'"
      ],
      "metadata": {
        "colab": {
          "base_uri": "https://localhost:8080/"
        },
        "id": "3WMS8xlF-AR6",
        "outputId": "aa85f3b3-69d7-441b-a97e-5bcfb64bfb23"
      },
      "execution_count": 2,
      "outputs": [
        {
          "output_type": "stream",
          "name": "stdout",
          "text": [
            "'Acelerador de Carreira'\t\t      'Média de Pares_v2.pbix'\n",
            " Classroom\t\t\t\t      'Mineração de Dados.rar'\n",
            "'Colab Notebooks'\t\t\t       modelo_de_relatorio.pdf\n",
            " controle_da_empresa.xlsx\t\t       Portfólio.gsite\n",
            " data1.cab\t\t\t\t       prezi-windows.exe\n",
            " data1.hdr\t\t\t\t      'Programação Big Data.rar'\n",
            " Desktop.rar\t\t\t\t      'Ranking das Filiais.pbix'\n",
            "'DISTRIBUIÇÕES DE PROBABILIDADE.rar'\t       readme.txt\n",
            "'Entrega vs Reversa.pbix'\t\t       relatorios\n",
            " Flay\t\t\t\t\t      'serial number.txt'\n",
            " ikernel.ex_\t\t\t\t       SQL\n",
            " Importação_01.csv.gsheet\t\t       Takeout\n",
            "'Intensivão de SQL-20220204T022145Z-001.zip'   teste.csv\n",
            "'Lista 1A GABARITO.gsheet'\t\t      'TI - Projeto Final'\n",
            "'Lista de Exercícios P2 Omni.gdoc'\t       Trabalhos\n",
            " Livros\t\t\t\t\t      'Túlio - Power BI'\n",
            "'Maple 7.zip'\n"
          ]
        }
      ]
    },
    {
      "cell_type": "markdown",
      "source": [
        "Agora que temos acesso aos nossos arquivos, podemos manipulá-los.\n",
        "\n",
        "Segue exemplo:"
      ],
      "metadata": {
        "id": "aGsG-j3i-GYq"
      }
    },
    {
      "cell_type": "code",
      "source": [
        "# lendo o arquivo serial number.txt\n",
        "with open('/content/gdrive/My Drive/serial number.txt', 'r') as trabalho:\n",
        "  print(trabalho.read())"
      ],
      "metadata": {
        "colab": {
          "base_uri": "https://localhost:8080/"
        },
        "id": "eOjrWiLs-Gvi",
        "outputId": "39d747cd-e9fe-48ce-efcc-45ae59658af9"
      },
      "execution_count": 4,
      "outputs": [
        {
          "output_type": "stream",
          "name": "stdout",
          "text": [
            "OI\n",
            "teste\n"
          ]
        }
      ]
    },
    {
      "cell_type": "markdown",
      "source": [
        "<center><img width=\"40%\" src=\"data:image/jpeg;base64,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\"></center>\n",
        "\n",
        "## <center>**Rápido e ligeiro!**<center>\n",
        "\n"
      ],
      "metadata": {
        "id": "kcidaSexBzgY"
      }
    }
  ]
}